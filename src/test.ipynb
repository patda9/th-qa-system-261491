{
 "cells": [
  {
   "cell_type": "code",
   "execution_count": 1,
   "metadata": {},
   "outputs": [
    {
     "name": "stderr",
     "output_type": "stream",
     "text": [
      "Using TensorFlow backend.\n"
     ]
    }
   ],
   "source": [
    "import candidates_listing as cl\n",
    "import findDocuments as fd\n",
    "import json\n",
    "import numpy as np\n",
    "import os\n",
    "import preprocessing as prep\n",
    "import rnn_compare_twotext as rc\n",
    "import sentence_vectorization as sv\n",
    "\n",
    "from keras.layers import Input\n",
    "from keras.models import Model\n",
    "from pprint import pprint"
   ]
  },
  {
   "cell_type": "code",
   "execution_count": 90,
   "metadata": {},
   "outputs": [],
   "source": [
    "def get_original_token_positions(document_id, documents_path):\n",
    "    doc_path = os.path.join(documents_path, str(document_id) + '.json')\n",
    "    with open(doc_path, 'r', encoding='utf-8', errors='ignore') as f:\n",
    "        document = json.load(f)\n",
    "        preprocessed_document = prep.remove_noise(document)\n",
    "    \n",
    "    return preprocessed_document[1], preprocessed_document[2]\n",
    "\n",
    "def get_sentence_vectorization_layer(model, idx=5):\n",
    "    from keras.models import Model\n",
    "\n",
    "    vectorization_layer = Model(input=model.input, output=model.get_layer(index=idx).output)\n",
    "    \n",
    "    return vectorization_layer\n",
    "\n",
    "def load_json_doc_ids(path='D:/Users/Patdanai/Workspace/th-qa-system-261491/data/'):\n",
    "    with open(path, 'r') as f:\n",
    "        candidate_ids = json.load(f)\n",
    "    \n",
    "    return candidate_ids\n",
    "    \n",
    "def load_corpus_word_vectors(path='D:/Users/Patdanai/th-qasys-db/word_vectors_model/word2vec.model'):\n",
    "    from gensim.models import Word2Vec\n",
    "    wv_model = Word2Vec.load(path)\n",
    "    return wv_model.wv\n",
    "\n",
    "def load_document_word_vectors(document_ids, wv_path='D:/Users/Patdanai/th-qasys-db/preprocessed_corpus_wv'):\n",
    "    return np.load(wv_path + str(document_ids) + '.npy')\n",
    "\n",
    "def load_document_tokens(document_id, wv_path='D:/Users/Patdanai/th-qasys-db/preprocessed_corpus_wv'):\n",
    "    with open(wv_path + document_id + '.json', encoding='utf-8', errors='ignore') as f:\n",
    "        data = json.load(f)\n",
    "    return data\n",
    "\n",
    "def load_sentence_vectorization_model(model_path):\n",
    "    from keras.models import load_model\n",
    "\n",
    "    model = load_model(model_path)\n",
    "    model.summary()\n",
    "    \n",
    "    return model\n",
    "\n",
    "def load_tokenized_questions(path):\n",
    "    with open(path, 'r') as f:\n",
    "        questions = json.load(f)\n",
    "    \n",
    "    return questions, len(questions)\n",
    "\n",
    "def calculate_distance(vectorized_question, vectorized_sentences):\n",
    "    distance_matrices = []\n",
    "    for i in range(vectorized_sentences.__len__()):\n",
    "        distance_matrix = np.zeros((vectorized_sentences[i].shape[0], ))\n",
    "        for j in range(vectorized_sentences[i].__len__()):\n",
    "            distance_matrix[j] = np.linalg.norm(candidate_sentence_vectors[i][j] - vectorized_question)\n",
    "        distance_matrices.append(distance_matrix)\n",
    "\n",
    "    return distance_matrices\n",
    "\n",
    "def sort_distances(distance_matrices, max_num_candidate=8):\n",
    "    min_distance_indexes = []\n",
    "    ordered_distance_matrices = []\n",
    "    for i in range(distance_matrices.__len__()):\n",
    "        # argsort()[:len(distance_matrix[i])] => ascending order ranking from 0 (or 1) to len(distance_matrix[i])\n",
    "        if(distance_matrices[i].__len__() < max_num_candidate):\n",
    "            min_index = np.asarray(distance_matrices[i]).argsort()[:distance_matrices[i].__len__()]\n",
    "            sorted_dist = np.sort(distance_matrices[i])[:distance_matrices[i].__len__()]\n",
    "        else:\n",
    "            min_index = np.asarray(distance_matrices[i]).argsort()[:max_num_candidate]\n",
    "            sorted_dist = np.sort(distance_matrices[i])[:max_num_candidate]\n",
    "        ordered_distance_matrices.append(sorted_dist)\n",
    "        min_distance_indexes.append(min_index)\n",
    "    \n",
    "    min_distance_indexes = np.asarray(min_distance_indexes)\n",
    "    return min_distance_indexes, ordered_distance_matrices\n",
    "\n",
    "def locate_plain_text_characters(sentence_ranges, min_distance_indexes, original_tokens_ranges):\n",
    "    plain_text_character_positions = []\n",
    "    sentence_indexes = []\n",
    "    for i in range(min_distance_indexes.__len__()):\n",
    "        temp_all_sentences = []\n",
    "        temp = []\n",
    "        for j in range(min_distance_indexes[i].__len__()):\n",
    "            temp_one_sentence = []\n",
    "            min_dist_idx = min_distance_indexes[i][j]\n",
    "            sentence_range = sentence_ranges[i][min_dist_idx] # tuple of candidate sentence range\n",
    "            for k in range(sentence_range[0], sentence_range[1]):\n",
    "                try:\n",
    "                    character_position = original_tokens_ranges[i][k]\n",
    "                except:\n",
    "                    character_position = original_tokens_ranges[i][-1]\n",
    "                temp_one_sentence.append(character_position)\n",
    "            temp_all_sentences.append(temp_one_sentence)\n",
    "            temp.append(sentence_range)\n",
    "        plain_text_character_positions.append(temp_all_sentences)\n",
    "        sentence_indexes.append(temp)\n",
    "    return plain_text_character_positions, sentence_indexes\n",
    "\n",
    "def locate_candidate_answers(vectorized_question, vectorized_sentences, sentence_ranges, \n",
    "                                original_tokens_ranges, max_num_candidate=8):\n",
    "    distance_matrix = calculate_distance(vectorized_question, vectorized_sentences)\n",
    "    min_distance_indexes, min_distance_matrix = sort_distances(distance_matrix, max_num_candidate=max_num_candidate)\n",
    "    plaint_text_character_positions, sentence_indexes = locate_plain_text_characters(sentence_ranges, min_distance_indexes, original_tokens_ranges)\n",
    "\n",
    "    return plaint_text_character_positions, min_distance_matrix, sentence_indexes\n",
    "\n",
    "def vectorize_question_tokens(tokenized_question, word_vectors, embedded_question=[], embedding_shape=(100, ), words_per_sentence=20):\n",
    "    # for i in range(tokenized_questions.__len__()):\n",
    "    for j in range(tokenized_question.__len__()): # for word in tokenized question\n",
    "        try:\n",
    "            embedded_token = word_vectors[tokenized_question[j]]\n",
    "            embedded_question.append(embedded_token)\n",
    "        except:\n",
    "            embedded_question.append(np.zeros(embedding_shape))\n",
    "    while(embedded_question.__len__() < words_per_sentence):\n",
    "        embedded_question.insert(0, np.zeros(embedding_shape))\n",
    "        print(embedded_question.__len__())\n",
    "    while(embedded_question.__len__() > words_per_sentence):\n",
    "        embedded_question = embedded_question[:words_per_sentence]\n",
    "\n",
    "    return np.asarray(embedded_question)"
   ]
  },
  {
   "cell_type": "code",
   "execution_count": null,
   "metadata": {},
   "outputs": [],
   "source": [
    "DOCUMENTS_PATH = 'D:/Users/Patdanai/th-qasys-db/tokenized_wiki_corpus/'\n",
    "MODEL_PATH = '../models/compare_model_v3/191-0.7933.h5'\n",
    "SV_PATH = 'D:/Users/Patdanai/th-qasys-db/corpus_sv/'\n",
    "WV_PATH = 'D:/Users/Patdanai/th-qasys-db/preprocessed_corpus_wv/'\n",
    "WV_MODEL_PATH = 'D:/Users/Patdanai/th-qasys-db/word_vectors_model/word2vec.model'\n",
    "questions_path = '../results/question_sentence_tokens/question_sentence_tokens.json'\n",
    "# questions_path = 'C:/Users/Patdanai/Workspace/th-qa-system-261491/data/ThaiQACorpus-EvaluationDataset-tokenize.json'\n",
    "# questions_path = 'C:/Users/Patdanai/Workspace/th-qa-system-261491/data/new_sample_questions_tokenize.json'\n",
    "\n",
    "WORDS_PER_SENTENCE = 20\n",
    "OVERLAPPING_WORDS = WORDS_PER_SENTENCE // 2\n",
    "\n",
    "word_vectors = load_corpus_word_vectors(path=WV_MODEL_PATH)\n",
    "\n",
    "qsv_model = rc.sentenceVector()\n",
    "qsv_model.load_weights(MODEL_PATH, by_name=True)\n",
    "# print(qsv_model.summary())\n",
    "\n",
    "question_wv_seq = Input(shape=(rc.sentence_length, rc.word_vector_length,))\n",
    "vectorized_qs = qsv_model(question_wv_seq)\n",
    "candidate_sentence_seq = Input(shape=(rc.rnn_size,))\n",
    "\n",
    "sc_model = rc.sentenceCompare()\n",
    "sc_model.load_weights(MODEL_PATH, by_name=True)\n",
    "# print(sc_model.summary())\n",
    "\n",
    "similarity = sc_model([candidate_sentence_seq, vectorized_qs])\n",
    "\n",
    "model = Model(inputs=[candidate_sentence_seq, question_wv_seq], outputs=similarity)\n",
    "print(model.summary())"
   ]
  },
  {
   "cell_type": "code",
   "execution_count": 85,
   "metadata": {},
   "outputs": [
    {
     "name": "stdout",
     "output_type": "stream",
     "text": [
      "(4000,) 4000\n",
      "Part: 0\n"
     ]
    }
   ],
   "source": [
    "tokenized_questions, questions_num = load_tokenized_questions(questions_path) # use this question num\n",
    "print(np.array(tokenized_questions).shape, questions_num)\n",
    "\n",
    "begin_question = 0\n",
    "\n",
    "with open('../data/test_doc_ids.json', 'r') as f:\n",
    "    candidate_document_ids = json.load(f)\n",
    "\n",
    "candidate_answers = []\n",
    "part = 0\n",
    "print('Part: %d' % part)"
   ]
  },
  {
   "cell_type": "code",
   "execution_count": 89,
   "metadata": {},
   "outputs": [
    {
     "name": "stdout",
     "output_type": "stream",
     "text": [
      "Processing question [0/1] candidate documents. \n",
      "(1, 5, 16)\n",
      "[[[ 0 20]\n",
      "  [10 30]\n",
      "  [20 40]\n",
      "  [30 50]\n",
      "  [40 60]\n",
      "  [50 70]\n",
      "  [60 80]\n",
      "  [63 83]\n",
      "  [63 83]]]\n"
     ]
    }
   ],
   "source": [
    "for i in range(0, candidate_document_ids.__len__()): # question\n",
    "        print('Processing question [' + str(i) + '/' + str(candidate_document_ids.__len__()) + '] candidate documents. \\r')\n",
    "        documents_index = [] # original one\n",
    "        documents_lengths = [] # original one\n",
    "        array_of_wvs = []\n",
    "        tokenized_docs = []\n",
    "        for j in range(candidate_document_ids[i].__len__()): # candidate doc\n",
    "            original_index, original_lengths = get_original_token_positions(candidate_document_ids[i][j], DOCUMENTS_PATH)\n",
    "            array_of_wvs.append(np.load(SV_PATH + 's-' + str(candidate_document_ids[i][j]) + '.npy'))\n",
    "            documents_index.append(original_index)\n",
    "            documents_lengths.append(original_lengths)\n",
    "            tokenized_docs.append(load_document_word_vectors(candidate_document_ids[i][j], WV_PATH))\n",
    "        array_of_wvs = np.array(array_of_wvs)\n",
    "        print(array_of_wvs.shape)\n",
    "        \n",
    "        m_words = prep.m_words_separate(WORDS_PER_SENTENCE, tokenized_docs, overlapping_words=WORDS_PER_SENTENCE//2)\n",
    "        m_words_sentences = m_words[0]\n",
    "        m_words_index_ranges = m_words[1]\n",
    "        \n",
    "        print(m_words_index_ranges)"
   ]
  },
  {
   "cell_type": "code",
   "execution_count": 64,
   "metadata": {},
   "outputs": [
    {
     "name": "stdout",
     "output_type": "stream",
     "text": [
      "(1, 37, 100)\n",
      "(5, 40, 100)\n"
     ]
    }
   ],
   "source": [
    "    question_wv = []\n",
    "    temp = []\n",
    "    for j in range(len(tokenized_questions[i]['sentence_tokens'])):\n",
    "        try:\n",
    "            temp.append(word_vectors[tokenized_questions[i]['sentence_tokens'][j]])\n",
    "        except:\n",
    "            temp.append(np.zeros((rc.word_vector_length, )))\n",
    "    question_wv.append(temp)\n",
    "    question_wv = np.array(question_wv)\n",
    "    print(question_wv.shape)\n",
    "    \n",
    "    temp = np.zeros((question_wv.shape[0], rc.sentence_length - question_wv.shape[1], rc.word_vector_length))\n",
    "    temp[:] = 0.\n",
    "    question_wv = np.concatenate((temp, question_wv), axis=1)\n",
    "    question_wv = np.repeat(question_wv, array_of_wvs.shape[1], axis=0)\n",
    "    \n",
    "    print(question_wv.shape)"
   ]
  },
  {
   "cell_type": "code",
   "execution_count": 65,
   "metadata": {},
   "outputs": [
    {
     "name": "stdout",
     "output_type": "stream",
     "text": [
      "[[0.7976213]\n",
      " [0.7983011]\n",
      " [0.8012408]\n",
      " [0.7928511]\n",
      " [0.7936725]]\n"
     ]
    }
   ],
   "source": [
    "        for j in range(len(array_of_wvs)):\n",
    "            prediction = model.predict([array_of_wvs[j], question_wv])\n",
    "            print(prediction)"
   ]
  },
  {
   "cell_type": "code",
   "execution_count": null,
   "metadata": {},
   "outputs": [],
   "source": []
  },
  {
   "cell_type": "code",
   "execution_count": null,
   "metadata": {},
   "outputs": [],
   "source": []
  }
 ],
 "metadata": {
  "kernelspec": {
   "display_name": "qasys-venv",
   "language": "python",
   "name": "qasys-venv"
  },
  "language_info": {
   "codemirror_mode": {
    "name": "ipython",
    "version": 3
   },
   "file_extension": ".py",
   "mimetype": "text/x-python",
   "name": "python",
   "nbconvert_exporter": "python",
   "pygments_lexer": "ipython3",
   "version": "3.6.8"
  }
 },
 "nbformat": 4,
 "nbformat_minor": 2
}
